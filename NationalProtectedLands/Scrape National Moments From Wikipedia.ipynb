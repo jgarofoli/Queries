{
 "cells": [
  {
   "cell_type": "markdown",
   "metadata": {},
   "source": [
    "# Scrape National Monument Areas\n",
    "\n",
    "The List of National Monuments doesn't include their areas, but each of the pages does.  So I scrape them."
   ]
  },
  {
   "cell_type": "code",
   "execution_count": 1,
   "metadata": {
    "collapsed": true
   },
   "outputs": [],
   "source": [
    "import time\n",
    "import urllib2\n",
    "import pickle"
   ]
  },
  {
   "cell_type": "code",
   "execution_count": 3,
   "metadata": {
    "collapsed": false
   },
   "outputs": [
    {
     "data": {
      "text/plain": [
       "Index([u'National Monument Name', u'Photo', u'Agency', u'Location',\n",
       "       u'Date Established', u'Description', u'established', u'year'],\n",
       "      dtype='object')"
      ]
     },
     "execution_count": 3,
     "metadata": {},
     "output_type": "execute_result"
    }
   ],
   "source": [
    "%run load_nm.ipynb\n",
    "nm.columns"
   ]
  },
  {
   "cell_type": "code",
   "execution_count": null,
   "metadata": {
    "collapsed": true
   },
   "outputs": [],
   "source": [
    "nm['url'] = nm['National Monument Name'].apply(\n",
    "    lambda x: 'https://en.wikipedia.org/wiki/{:}_National_Monument'.format(x))\n",
    "nm['url'] = nm['url'].str.replace(' ', '_')"
   ]
  },
  {
   "cell_type": "code",
   "execution_count": null,
   "metadata": {
    "collapsed": true
   },
   "outputs": [],
   "source": [
    "data = [[], []]"
   ]
  },
  {
   "cell_type": "code",
   "execution_count": null,
   "metadata": {
    "collapsed": true
   },
   "outputs": [],
   "source": [
    "i = 0\n",
    "for row in nm.iterrows():\n",
    "    if row[1]['National Monument Name'] in data[0]:\n",
    "        continue\n",
    "    print i, row[1]['url'],\n",
    "    try:\n",
    "        a = pd.read_html(row[1]['url'])\n",
    "    except urllib2.HTTPError as e:\n",
    "        print 'not found?', e\n",
    "    dd = {b[0]: b[1] for b in zip(a[0][0], a[0][1])}\n",
    "    data[0].append(row[1]['National Monument Name'])\n",
    "    if 'Area' in dd:\n",
    "        print 'Area =', dd['Area']\n",
    "        data[1].append(dd['Area'])\n",
    "    else:\n",
    "        print 'no area'\n",
    "        data[1].append(0.)\n",
    "    time.sleep(1)\n",
    "    i += 1"
   ]
  },
  {
   "cell_type": "code",
   "execution_count": null,
   "metadata": {
    "collapsed": true
   },
   "outputs": [],
   "source": [
    "dd = {a: b for a, b in zip(data[0], data[1])}"
   ]
  },
  {
   "cell_type": "markdown",
   "metadata": {},
   "source": [
    "Unfortunately, not all the pages are formatted equally.  I have to manually fixup some of the data."
   ]
  },
  {
   "cell_type": "code",
   "execution_count": null,
   "metadata": {
    "collapsed": true
   },
   "outputs": [],
   "source": [
    "for k in dd:\n",
    "    if dd[k] == 0.:\n",
    "        print \"dd['{:}'] = {:0.0f}\".format(k, dd[k])"
   ]
  },
  {
   "cell_type": "code",
   "execution_count": null,
   "metadata": {
    "collapsed": true
   },
   "outputs": [],
   "source": [
    "dd['Fort Ord'] = '14,658 acres'\n",
    "dd['Newberry'] = '55,500 acres (225 km2)'\n",
    "dd['El Malpais'] = '114,276 acres (462.46 km2)'\n",
    "dd['Effigy Mounds'] = '2,526 acres (10.22 km2)'\n",
    "dd['Charles Young Buffalo Soldiers'] = 0.\n",
    "dd['John Day Fossil Beds'] = '13,944 acres (5,643 ha)'\n",
    "dd['Fort McHenry'] = '43.26 acres (17.51 ha)'\n",
    "dd['Pullman'] = 0\n",
    "dd['Statue of Liberty'] = 0\n",
    "dd['Pacific Remote Islands Marine'] = '313,818,892 acres (1,269,980.00 km2)'\n",
    "dd['Wupatki'] = '35,422 acres (143.35 km2)'\n",
    "dd['Misty Fjords'] = '2,294,343 acres (9,246 km2)'\n",
    "dd['Gold Butte'] = '300,000 acres'\n",
    "dd['Military Working Dog Teams'] = 0\n",
    "dd['Sunset Crater Volcano'] = '3,040 acres (12.3 km2)'\n",
    "dd['Devils Tower'] = '1,347 acres'\n",
    "dd['Mount St. Helens'] = '110,000 acres (450 km2)'\n",
    "dd['Marianas Trench Marine'] = '60,938,240 acres'"
   ]
  },
  {
   "cell_type": "code",
   "execution_count": null,
   "metadata": {
    "collapsed": true
   },
   "outputs": [],
   "source": [
    "if False: # only do this if you have to\n",
    "    with open('national_monuments_areas.pkl', 'w') as ofile:\n",
    "        pickle.dump(dd, ofile)"
   ]
  }
 ],
 "metadata": {
  "kernelspec": {
   "display_name": "Python [default]",
   "language": "python",
   "name": "python2"
  },
  "language_info": {
   "codemirror_mode": {
    "name": "ipython",
    "version": 2
   },
   "file_extension": ".py",
   "mimetype": "text/x-python",
   "name": "python",
   "nbconvert_exporter": "python",
   "pygments_lexer": "ipython2",
   "version": "2.7.12"
  }
 },
 "nbformat": 4,
 "nbformat_minor": 1
}
