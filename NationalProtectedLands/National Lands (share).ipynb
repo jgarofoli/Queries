{
 "cells": [
  {
   "cell_type": "markdown",
   "metadata": {},
   "source": [
    "# National Protected Lands\n",
    "\n",
    "Last updated: 2016-12-30\n",
    "\n",
    "Motivated by the recent announcement of the Bears Ears National Monument in Utah, and the Gold Butte National Monument in Nevada."
   ]
  },
  {
   "cell_type": "code",
   "execution_count": 1,
   "metadata": {
    "collapsed": true
   },
   "outputs": [],
   "source": [
    "import pandas as pd\n",
    "import seaborn as sns\n",
    "import matplotlib.pyplot as plt\n",
    "import matplotlib.patches as patches\n",
    "import numpy as np\n",
    "%matplotlib inline\n",
    "sns.set_style('ticks')\n",
    "sns.set_palette('bright')"
   ]
  },
  {
   "cell_type": "markdown",
   "metadata": {},
   "source": [
    "## Load Presidential Party Data\n",
    "\n",
    "Load data for overlaying the party of the President.  Future: overlay the dominant party in the Senate and Congress.  I did this to see how it correlated with park establishment.  I did learn something from this (see conclusion below)."
   ]
  },
  {
   "cell_type": "code",
   "execution_count": 2,
   "metadata": {
    "collapsed": false
   },
   "outputs": [
    {
     "name": "stdout",
     "output_type": "stream",
     "text": [
      "Index([u'Name', u'StartYear', u'EndYear', u'Party'], dtype='object')\n"
     ]
    }
   ],
   "source": [
    "pres = pd.read_csv('presidents.csv') # source: http://textlists.info/us-presidents-in-order-by-term/\n",
    "print pres.columns\n",
    "\n",
    "def add_presidents(ax, height=300000):\n",
    "    colors = {'Democrat': '0',\n",
    "              'Republican': '1',\n",
    "              'Other': '0'}\n",
    "    \n",
    "    for row in pres.iterrows():\n",
    "        ax.add_patch(\n",
    "            patches.Rectangle(\n",
    "                (row[1]['StartYear'], 0), row[1]['EndYear']-row[1]['StartYear'], height,\n",
    "                edgecolor=\"none\", facecolor=colors[row[1]['Party']], alpha=0.1, zorder=-100\n",
    "            )\n",
    "        )"
   ]
  },
  {
   "cell_type": "markdown",
   "metadata": {},
   "source": [
    "## Load National Parks Data\n",
    "\n",
    "Import the National Parks data.  This is done in a separate notebook since it requires some data munging steps.  Data is from [Wikipedia's list of US National Parks](https://en.wikipedia.org/w/index.php?title=List_of_national_parks_of_the_United_States)."
   ]
  },
  {
   "cell_type": "code",
   "execution_count": 3,
   "metadata": {
    "collapsed": false
   },
   "outputs": [
    {
     "data": {
      "text/plain": [
       "Index([u'Name', u'Photo', u'Location', u'Date established as park[2][4]',\n",
       "       u'Area[2]', u'Recreation visitors (2014)[5]', u'Description',\n",
       "       u'established', u'sqkm', u'year'],\n",
       "      dtype='object')"
      ]
     },
     "execution_count": 3,
     "metadata": {},
     "output_type": "execute_result"
    }
   ],
   "source": [
    "%run load_nps.ipynb\n",
    "nps.columns"
   ]
  },
  {
   "cell_type": "markdown",
   "metadata": {},
   "source": [
    "Sort the National Park data on the year that it is established.  Add columns for the cumulative total number of parks, and the total area of the National Parks System."
   ]
  },
  {
   "cell_type": "code",
   "execution_count": 4,
   "metadata": {
    "collapsed": false
   },
   "outputs": [],
   "source": [
    "nps_parks_sorted_years = nps.sort_values(['established'])"
   ]
  },
  {
   "cell_type": "code",
   "execution_count": 5,
   "metadata": {
    "collapsed": true
   },
   "outputs": [],
   "source": [
    "nps_parks_sorted_years['Cum_Tot'] = np.arange(len(nps_parks_sorted_years))\n",
    "nps_parks_sorted_years['Cum_Area'] = nps_parks_sorted_years['sqkm'].cumsum()"
   ]
  },
  {
   "cell_type": "markdown",
   "metadata": {},
   "source": [
    "## National Parks Figures\n",
    "\n",
    "Now make the figures."
   ]
  },
  {
   "cell_type": "code",
   "execution_count": 6,
   "metadata": {
    "collapsed": false
   },
   "outputs": [
    {
     "data": {
      "image/png": "[encoded data removed]",
      "text/plain": [
       "<matplotlib.figure.Figure at 0x1150b7090>"
      ]
     },
     "metadata": {},
     "output_type": "display_data"
    }
   ],
   "source": [
    "fig = plt.figure(figsize=(6,3))\n",
    "npax1 = plt.subplot(121)\n",
    "plt.fill_between(nps_parks_sorted_years['year'], nps_parks_sorted_years['Cum_Tot'],\n",
    "                 color='g', lw=0, alpha=0.3);\n",
    "plt.plot(nps_parks_sorted_years['year'], nps_parks_sorted_years['Cum_Tot'],\n",
    "         color='g', lw=3, alpha=0.8);\n",
    "sns.despine();\n",
    "add_presidents(npax1)\n",
    "plt.xticks(np.arange(1860,2030,50));\n",
    "plt.yticks([0, 20, 40, 60]);\n",
    "plt.ylim(0, 60)\n",
    "plt.xlim(1860, 2020)\n",
    "plt.xlabel('year')\n",
    "#plt.ylabel('total number')\n",
    "plt.title('NPS Parks: number')\n",
    "plt.annotate('R', (1924, 55), color='0', alpha=0.1)\n",
    "plt.annotate('D', (1940, 55), color='1')\n",
    "\n",
    "\n",
    "npax2 = plt.subplot(122)\n",
    "plt.fill_between(nps_parks_sorted_years['year'], nps_parks_sorted_years['Cum_Area'],\n",
    "                 color='g', alpha=0.3, lw=0);\n",
    "plt.plot(nps_parks_sorted_years['year'], nps_parks_sorted_years['Cum_Area'],\n",
    "         #marker='o', markerfacecolor='w', markeredgecolor='b',\n",
    "         color='g', lw=3, alpha=0.8);\n",
    "add_presidents(npax2)\n",
    "sns.despine();\n",
    "plt.xticks(np.arange(1860,2030,50));\n",
    "plt.yticks([0, 100000, 200000, 220000], [0, '100k', '200k', '220k']);\n",
    "plt.ylim(0, 220000)\n",
    "plt.xlim(1860, 2020)\n",
    "plt.xlabel('year');\n",
    "#plt.ylabel('total area (sq km)');\n",
    "plt.title('NPS Parks: area (sq. km)');\n",
    "plt.tight_layout();\n",
    "plt.savefig('national_parks.png', dpi=300)"
   ]
  },
  {
   "cell_type": "markdown",
   "metadata": {},
   "source": [
    "About the figures: Total number of parks by year (left).  Total area of parks by year (right).  The gray shaded background areas have a Democrat President (indicated with a 'D' in the left figure), and the other areas have a Republican President.\n",
    "\n",
    "One feature that is interesting here is that the number of National Parks increases at a fairly consistent rate irrespective of Presidential party.  The large increase in area of National Parks is for the addition of several parks in Alaska."
   ]
  },
  {
   "cell_type": "markdown",
   "metadata": {},
   "source": [
    "## National Monuments"
   ]
  },
  {
   "cell_type": "code",
   "execution_count": 7,
   "metadata": {
    "collapsed": false
   },
   "outputs": [
    {
     "name": "stdout",
     "output_type": "stream",
     "text": [
      "126\n"
     ]
    },
    {
     "data": {
      "text/plain": [
       "Index([u'National Monument Name', u'Photo', u'Agency', u'Location',\n",
       "       u'Date Established', u'Description', u'established', u'year', u'sqkm'],\n",
       "      dtype='object')"
      ]
     },
     "execution_count": 7,
     "metadata": {},
     "output_type": "execute_result"
    }
   ],
   "source": [
    "%run load_nm.ipynb\n",
    "nm.columns"
   ]
  },
  {
   "cell_type": "markdown",
   "metadata": {},
   "source": [
    "Remove all the really big, but pretty much inaccessible, Marine Preserves."
   ]
  },
  {
   "cell_type": "code",
   "execution_count": 8,
   "metadata": {
    "collapsed": false
   },
   "outputs": [],
   "source": [
    "nm = nm[nm['National Monument Name'] != u'Papahānaumokuākea Marine']\n",
    "nm = nm[nm['National Monument Name'] != 'Pacific Remote Islands Marine']\n",
    "nm = nm[nm['National Monument Name'] != 'Northeast Canyons and Seamounts Marine']\n",
    "nm = nm[nm['National Monument Name'] != 'Marianas Trench Marine']\n",
    "nm = nm[nm['National Monument Name'] != 'Rose Atoll Marine']"
   ]
  },
  {
   "cell_type": "code",
   "execution_count": 9,
   "metadata": {
    "collapsed": true
   },
   "outputs": [],
   "source": [
    "nm_sorted_years = nm.sort_values(['established'])"
   ]
  },
  {
   "cell_type": "code",
   "execution_count": 10,
   "metadata": {
    "collapsed": false
   },
   "outputs": [],
   "source": [
    "nm_sorted_years['Cum_Tot'] = np.arange(len(nm_sorted_years))\n",
    "nm_sorted_years['Cum_Area'] = nm_sorted_years['sqkm'].astype(float).cumsum()"
   ]
  },
  {
   "cell_type": "markdown",
   "metadata": {},
   "source": [
    "## National Monumnts Figure"
   ]
  },
  {
   "cell_type": "code",
   "execution_count": 11,
   "metadata": {
    "collapsed": false,
    "scrolled": true
   },
   "outputs": [
    {
     "data": {
      "image/png": "[encoded data removed]",
      "text/plain": [
       "<matplotlib.figure.Figure at 0x1177265d0>"
      ]
     },
     "metadata": {},
     "output_type": "display_data"
    }
   ],
   "source": [
    "fig = plt.figure(figsize=(6,3)) # update size when area is added\n",
    "nmax1 = plt.subplot(121) # update to 121\n",
    "plt.fill_between(nm_sorted_years['year'], nm_sorted_years['Cum_Tot'],\n",
    "                 color='b', lw=0, alpha=0.3);\n",
    "plt.plot(nm_sorted_years['year'], nm_sorted_years['Cum_Tot'],\n",
    "         color='b', lw=3, alpha=0.8);\n",
    "sns.despine();\n",
    "add_presidents(nmax1)\n",
    "plt.xticks(np.arange(1910,2030,50));\n",
    "plt.yticks([0, 45, 90, 130]);\n",
    "plt.xlim(1900, 2020)\n",
    "plt.ylim(0, 130)\n",
    "plt.xlabel('year')\n",
    "#plt.ylabel('total number')\n",
    "plt.title('National Monuments: number')\n",
    "plt.annotate('R', (1924, 117), color='0', alpha=0.1)\n",
    "plt.annotate('D', (1940, 117), color='1')\n",
    "\n",
    "nmax2 = plt.subplot(122)\n",
    "plt.fill_between(nm_sorted_years['year'], nm_sorted_years['Cum_Area'],\n",
    "                 color='b', alpha=0.3, lw=0);\n",
    "plt.plot(nm_sorted_years['year'], nm_sorted_years['Cum_Area'],\n",
    "         #marker='o', markerfacecolor='w', markeredgecolor='b',\n",
    "         color='b', lw=3, alpha=0.8);\n",
    "sns.despine();\n",
    "add_presidents(nmax2, 3500000)\n",
    "plt.xticks(np.arange(1910,2030,50));\n",
    "plt.yticks([0, 25000, 50000, 75000], [0, '25k', '50k', '75k']);\n",
    "plt.xlabel('year');\n",
    "plt.xlim(1900, 2020)\n",
    "plt.ylabel('total area (sq km)');\n",
    "plt.title('National Monuments: area (sq. km)');\n",
    "plt.tight_layout();\n",
    "plt.savefig('national_monuments.png', dpi=300)"
   ]
  },
  {
   "cell_type": "markdown",
   "metadata": {},
   "source": [
    "Note that the large marine monuments have been excluded."
   ]
  },
  {
   "cell_type": "markdown",
   "metadata": {},
   "source": [
    "## Conclusion\n",
    "\n",
    "It is interesting that National Parks increase in a relatively consistent rate regardless of who (or which party) is President.  This was also true of National Monument until the most recent administrations.  There is a definite increase in designations during the Democrat administrations (Clinton, Obama) compared to the adjacent Republican administrations (Bush I, Bush II)."
   ]
  },
  {
   "cell_type": "markdown",
   "metadata": {},
   "source": [
    "## Further Studies\n",
    "\n",
    "1. How many National protected lands are there? By state? Total Area?\n",
    "1. How much do these lands cost?  By area?  By state?\n",
    "  1. Where does this money come from?\n",
    "  1. What is it spent on?\n",
    "  1. What is not being done? What project are being deferred due to lack of funding?\n",
    "  1. What are the funding requests for each area?\n",
    "1. Is there a database of roadside markers? http://photos.historical-markers.org/"
   ]
  },
  {
   "cell_type": "markdown",
   "metadata": {},
   "source": [
    "## Change List\n",
    "```\n",
    "2016-12-30: First add, with National Parks and National Monuments.\n",
    "\n",
    "```"
   ]
  },
  {
   "cell_type": "code",
   "execution_count": null,
   "metadata": {
    "collapsed": true
   },
   "outputs": [],
   "source": []
  }
 ],
 "metadata": {
  "anaconda-cloud": {},
  "kernelspec": {
   "display_name": "Python [default]",
   "language": "python",
   "name": "python2"
  },
  "language_info": {
   "codemirror_mode": {
    "name": "ipython",
    "version": 2
   },
   "file_extension": ".py",
   "mimetype": "text/x-python",
   "name": "python",
   "nbconvert_exporter": "python",
   "pygments_lexer": "ipython2",
   "version": "2.7.12"
  }
 },
 "nbformat": 4,
 "nbformat_minor": 1
}
