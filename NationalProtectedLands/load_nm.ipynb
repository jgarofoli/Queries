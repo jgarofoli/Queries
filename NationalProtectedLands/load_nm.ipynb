{
 "cells": [
  {
   "cell_type": "markdown",
   "metadata": {},
   "source": [
    "# Import National Monuments Data\n",
    "\n",
    "I copy/pasted the table from [Wikipedia's List of National Monuments](https://en.wikipedia.org/w/index.php?title=List_of_National_Monuments_of_the_United_States&oldid=757281136), but that doesn't contain the area of each monument.  So I'll scrape it."
   ]
  },
  {
   "cell_type": "code",
   "execution_count": 1,
   "metadata": {
    "collapsed": true
   },
   "outputs": [],
   "source": [
    "import pandas as pd\n",
    "import numpy as np\n",
    "import pickle\n",
    "\n",
    "pd.set_option('display.max_rows', 500)"
   ]
  },
  {
   "cell_type": "code",
   "execution_count": 2,
   "metadata": {
    "collapsed": true
   },
   "outputs": [],
   "source": [
    "nm = pd.read_csv('national_monuments_wikipedia.csv')"
   ]
  },
  {
   "cell_type": "code",
   "execution_count": 3,
   "metadata": {
    "collapsed": false
   },
   "outputs": [
    {
     "data": {
      "text/plain": [
       "Index([u'National Monument Name', u'Photo', u'Agency', u'Location',\n",
       "       u'Date Established', u'Description'],\n",
       "      dtype='object')"
      ]
     },
     "execution_count": 3,
     "metadata": {},
     "output_type": "execute_result"
    }
   ],
   "source": [
    "nm.columns"
   ]
  },
  {
   "cell_type": "code",
   "execution_count": 4,
   "metadata": {
    "collapsed": false
   },
   "outputs": [],
   "source": [
    "nm['National Monument Name'] = nm['National Monument Name'].str.decode('utf-8').str.strip()"
   ]
  },
  {
   "cell_type": "code",
   "execution_count": 5,
   "metadata": {
    "collapsed": false
   },
   "outputs": [],
   "source": [
    "nm['established'] = pd.to_datetime(nm['Date Established'])"
   ]
  },
  {
   "cell_type": "code",
   "execution_count": 6,
   "metadata": {
    "collapsed": true
   },
   "outputs": [],
   "source": [
    "nm['year'] = nm['established'].apply(lambda x: x.year)"
   ]
  },
  {
   "cell_type": "markdown",
   "metadata": {},
   "source": [
    "## Load Scraped National Monuments"
   ]
  },
  {
   "cell_type": "code",
   "execution_count": 7,
   "metadata": {
    "collapsed": false
   },
   "outputs": [
    {
     "name": "stdout",
     "output_type": "stream",
     "text": [
      "126\n"
     ]
    }
   ],
   "source": [
    "with open('national_monuments_areas.pkl', 'r') as ifile:\n",
    "    dd = pickle.load(ifile)\n",
    "print len(dd)"
   ]
  },
  {
   "cell_type": "markdown",
   "metadata": {},
   "source": [
    "Need to do two things:\n",
    "1. Convert to sq km\n",
    "2. merge with nm data frame\n",
    "1. TEXT PARSING SUCKS"
   ]
  },
  {
   "cell_type": "code",
   "execution_count": 8,
   "metadata": {
    "collapsed": true
   },
   "outputs": [],
   "source": [
    "def acres_to_sqkm(a):\n",
    "    return float(a.replace(',', '')) * 0.00404686\n",
    "\n",
    "def sqmi_to_sqkm(a):\n",
    "    return float(a.replace(',', '')) * 2.58999"
   ]
  },
  {
   "cell_type": "code",
   "execution_count": 9,
   "metadata": {
    "collapsed": false
   },
   "outputs": [],
   "source": [
    "data = [[], []]\n",
    "for k in sorted(dd):\n",
    "    data[0].append(k.decode('utf-8').strip())\n",
    "    data[1].append(dd[k])\n",
    "nma = pd.DataFrame(np.c_[data[0], data[1]], columns=['National Monument Name', 'Area'])"
   ]
  },
  {
   "cell_type": "code",
   "execution_count": 10,
   "metadata": {
    "collapsed": false
   },
   "outputs": [],
   "source": [
    "data2 = [[], []]\n",
    "for row in nma.iterrows():\n",
    "    a = row[1]['Area'].split()\n",
    "    if row[1]['National Monument Name'] == '':\n",
    "        print row\n",
    "    if len(a) >= 2:\n",
    "        if a[1].lower() != 'acres':\n",
    "            if a[1].lower() == 'square':\n",
    "                data2[0].append(row[1]['National Monument Name'])\n",
    "                data2[1].append(sqmi_to_sqkm(a[0]))\n",
    "            else:\n",
    "                data2[0].append(row[1]['National Monument Name'])\n",
    "                data2[1].append(0.)\n",
    "        else:\n",
    "            data2[0].append(row[1]['National Monument Name'])\n",
    "            data2[1].append(acres_to_sqkm(a[0]))\n",
    "    else:\n",
    "        data2[0].append(row[1]['National Monument Name'])\n",
    "        data2[1].append(0.)"
   ]
  },
  {
   "cell_type": "code",
   "execution_count": 12,
   "metadata": {
    "collapsed": false
   },
   "outputs": [],
   "source": [
    "nmb = pd.DataFrame(np.c_[data2[0], data2[1]], columns=['National Monument Name', 'sqkm'])"
   ]
  },
  {
   "cell_type": "code",
   "execution_count": 14,
   "metadata": {
    "collapsed": false
   },
   "outputs": [
    {
     "data": {
      "text/plain": [
       "126"
      ]
     },
     "execution_count": 14,
     "metadata": {},
     "output_type": "execute_result"
    }
   ],
   "source": [
    "nm = nm.merge(nmb, how='outer', on='National Monument Name')\n",
    "len(nm)"
   ]
  }
 ],
 "metadata": {
  "anaconda-cloud": {},
  "kernelspec": {
   "display_name": "Python [default]",
   "language": "python",
   "name": "python2"
  },
  "language_info": {
   "codemirror_mode": {
    "name": "ipython",
    "version": 2
   },
   "file_extension": ".py",
   "mimetype": "text/x-python",
   "name": "python",
   "nbconvert_exporter": "python",
   "pygments_lexer": "ipython2",
   "version": "2.7.12"
  }
 },
 "nbformat": 4,
 "nbformat_minor": 1
}
